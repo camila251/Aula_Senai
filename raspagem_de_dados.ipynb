{
  "nbformat": 4,
  "nbformat_minor": 0,
  "metadata": {
    "colab": {
      "provenance": [],
      "authorship_tag": "ABX9TyOqAv/m9JL7LRqtH1qy4KZB",
      "include_colab_link": true
    },
    "kernelspec": {
      "name": "python3",
      "display_name": "Python 3"
    },
    "language_info": {
      "name": "python"
    }
  },
  "cells": [
    {
      "cell_type": "markdown",
      "metadata": {
        "id": "view-in-github",
        "colab_type": "text"
      },
      "source": [
        "<a href=\"https://colab.research.google.com/github/camila251/Aula_Senai/blob/main/raspagem_de_dados.ipynb\" target=\"_parent\"><img src=\"https://colab.research.google.com/assets/colab-badge.svg\" alt=\"Open In Colab\"/></a>"
      ]
    },
    {
      "cell_type": "code",
      "execution_count": 1,
      "metadata": {
        "id": "mfewtbdYMwI6"
      },
      "outputs": [],
      "source": [
        "import requests\n",
        "from bs4 import BeautifulSoup\n",
        "import pandas as pd\n",
        "\n",
        "#URL para raspar os dados\n",
        "url = 'https://books.toscrape.com/index.html'\n",
        "\n",
        "#fazer a requisiçao HTTP\n",
        "response = requests.get(url)"
      ]
    },
    {
      "cell_type": "code",
      "source": [
        "# usar BeautifulSoup para parsear o conteudo\n",
        "soup = BeautifulSoup(response.text, 'html.parser')"
      ],
      "metadata": {
        "id": "aD-zQTrVyCg1"
      },
      "execution_count": 3,
      "outputs": []
    },
    {
      "cell_type": "code",
      "source": [
        "soup.select('article.product_pod')"
      ],
      "metadata": {
        "colab": {
          "base_uri": "https://localhost:8080/"
        },
        "id": "VmZo3p0HzSKP",
        "outputId": "6e0844f1-eebf-46b9-db3f-9b236ce45393"
      },
      "execution_count": 4,
      "outputs": [
        {
          "output_type": "execute_result",
          "data": {
            "text/plain": [
              "[<article class=\"product_pod\">\n",
              " <div class=\"image_container\">\n",
              " <a href=\"catalogue/a-light-in-the-attic_1000/index.html\"><img alt=\"A Light in the Attic\" class=\"thumbnail\" src=\"media/cache/2c/da/2cdad67c44b002e7ead0cc35693c0e8b.jpg\"/></a>\n",
              " </div>\n",
              " <p class=\"star-rating Three\">\n",
              " <i class=\"icon-star\"></i>\n",
              " <i class=\"icon-star\"></i>\n",
              " <i class=\"icon-star\"></i>\n",
              " <i class=\"icon-star\"></i>\n",
              " <i class=\"icon-star\"></i>\n",
              " </p>\n",
              " <h3><a href=\"catalogue/a-light-in-the-attic_1000/index.html\" title=\"A Light in the Attic\">A Light in the ...</a></h3>\n",
              " <div class=\"product_price\">\n",
              " <p class=\"price_color\">Â£51.77</p>\n",
              " <p class=\"instock availability\">\n",
              " <i class=\"icon-ok\"></i>\n",
              "     \n",
              "         In stock\n",
              "     \n",
              " </p>\n",
              " <form>\n",
              " <button class=\"btn btn-primary btn-block\" data-loading-text=\"Adding...\" type=\"submit\">Add to basket</button>\n",
              " </form>\n",
              " </div>\n",
              " </article>,\n",
              " <article class=\"product_pod\">\n",
              " <div class=\"image_container\">\n",
              " <a href=\"catalogue/tipping-the-velvet_999/index.html\"><img alt=\"Tipping the Velvet\" class=\"thumbnail\" src=\"media/cache/26/0c/260c6ae16bce31c8f8c95daddd9f4a1c.jpg\"/></a>\n",
              " </div>\n",
              " <p class=\"star-rating One\">\n",
              " <i class=\"icon-star\"></i>\n",
              " <i class=\"icon-star\"></i>\n",
              " <i class=\"icon-star\"></i>\n",
              " <i class=\"icon-star\"></i>\n",
              " <i class=\"icon-star\"></i>\n",
              " </p>\n",
              " <h3><a href=\"catalogue/tipping-the-velvet_999/index.html\" title=\"Tipping the Velvet\">Tipping the Velvet</a></h3>\n",
              " <div class=\"product_price\">\n",
              " <p class=\"price_color\">Â£53.74</p>\n",
              " <p class=\"instock availability\">\n",
              " <i class=\"icon-ok\"></i>\n",
              "     \n",
              "         In stock\n",
              "     \n",
              " </p>\n",
              " <form>\n",
              " <button class=\"btn btn-primary btn-block\" data-loading-text=\"Adding...\" type=\"submit\">Add to basket</button>\n",
              " </form>\n",
              " </div>\n",
              " </article>,\n",
              " <article class=\"product_pod\">\n",
              " <div class=\"image_container\">\n",
              " <a href=\"catalogue/soumission_998/index.html\"><img alt=\"Soumission\" class=\"thumbnail\" src=\"media/cache/3e/ef/3eef99c9d9adef34639f510662022830.jpg\"/></a>\n",
              " </div>\n",
              " <p class=\"star-rating One\">\n",
              " <i class=\"icon-star\"></i>\n",
              " <i class=\"icon-star\"></i>\n",
              " <i class=\"icon-star\"></i>\n",
              " <i class=\"icon-star\"></i>\n",
              " <i class=\"icon-star\"></i>\n",
              " </p>\n",
              " <h3><a href=\"catalogue/soumission_998/index.html\" title=\"Soumission\">Soumission</a></h3>\n",
              " <div class=\"product_price\">\n",
              " <p class=\"price_color\">Â£50.10</p>\n",
              " <p class=\"instock availability\">\n",
              " <i class=\"icon-ok\"></i>\n",
              "     \n",
              "         In stock\n",
              "     \n",
              " </p>\n",
              " <form>\n",
              " <button class=\"btn btn-primary btn-block\" data-loading-text=\"Adding...\" type=\"submit\">Add to basket</button>\n",
              " </form>\n",
              " </div>\n",
              " </article>,\n",
              " <article class=\"product_pod\">\n",
              " <div class=\"image_container\">\n",
              " <a href=\"catalogue/sharp-objects_997/index.html\"><img alt=\"Sharp Objects\" class=\"thumbnail\" src=\"media/cache/32/51/3251cf3a3412f53f339e42cac2134093.jpg\"/></a>\n",
              " </div>\n",
              " <p class=\"star-rating Four\">\n",
              " <i class=\"icon-star\"></i>\n",
              " <i class=\"icon-star\"></i>\n",
              " <i class=\"icon-star\"></i>\n",
              " <i class=\"icon-star\"></i>\n",
              " <i class=\"icon-star\"></i>\n",
              " </p>\n",
              " <h3><a href=\"catalogue/sharp-objects_997/index.html\" title=\"Sharp Objects\">Sharp Objects</a></h3>\n",
              " <div class=\"product_price\">\n",
              " <p class=\"price_color\">Â£47.82</p>\n",
              " <p class=\"instock availability\">\n",
              " <i class=\"icon-ok\"></i>\n",
              "     \n",
              "         In stock\n",
              "     \n",
              " </p>\n",
              " <form>\n",
              " <button class=\"btn btn-primary btn-block\" data-loading-text=\"Adding...\" type=\"submit\">Add to basket</button>\n",
              " </form>\n",
              " </div>\n",
              " </article>,\n",
              " <article class=\"product_pod\">\n",
              " <div class=\"image_container\">\n",
              " <a href=\"catalogue/sapiens-a-brief-history-of-humankind_996/index.html\"><img alt=\"Sapiens: A Brief History of Humankind\" class=\"thumbnail\" src=\"media/cache/be/a5/bea5697f2534a2f86a3ef27b5a8c12a6.jpg\"/></a>\n",
              " </div>\n",
              " <p class=\"star-rating Five\">\n",
              " <i class=\"icon-star\"></i>\n",
              " <i class=\"icon-star\"></i>\n",
              " <i class=\"icon-star\"></i>\n",
              " <i class=\"icon-star\"></i>\n",
              " <i class=\"icon-star\"></i>\n",
              " </p>\n",
              " <h3><a href=\"catalogue/sapiens-a-brief-history-of-humankind_996/index.html\" title=\"Sapiens: A Brief History of Humankind\">Sapiens: A Brief History ...</a></h3>\n",
              " <div class=\"product_price\">\n",
              " <p class=\"price_color\">Â£54.23</p>\n",
              " <p class=\"instock availability\">\n",
              " <i class=\"icon-ok\"></i>\n",
              "     \n",
              "         In stock\n",
              "     \n",
              " </p>\n",
              " <form>\n",
              " <button class=\"btn btn-primary btn-block\" data-loading-text=\"Adding...\" type=\"submit\">Add to basket</button>\n",
              " </form>\n",
              " </div>\n",
              " </article>,\n",
              " <article class=\"product_pod\">\n",
              " <div class=\"image_container\">\n",
              " <a href=\"catalogue/the-requiem-red_995/index.html\"><img alt=\"The Requiem Red\" class=\"thumbnail\" src=\"media/cache/68/33/68339b4c9bc034267e1da611ab3b34f8.jpg\"/></a>\n",
              " </div>\n",
              " <p class=\"star-rating One\">\n",
              " <i class=\"icon-star\"></i>\n",
              " <i class=\"icon-star\"></i>\n",
              " <i class=\"icon-star\"></i>\n",
              " <i class=\"icon-star\"></i>\n",
              " <i class=\"icon-star\"></i>\n",
              " </p>\n",
              " <h3><a href=\"catalogue/the-requiem-red_995/index.html\" title=\"The Requiem Red\">The Requiem Red</a></h3>\n",
              " <div class=\"product_price\">\n",
              " <p class=\"price_color\">Â£22.65</p>\n",
              " <p class=\"instock availability\">\n",
              " <i class=\"icon-ok\"></i>\n",
              "     \n",
              "         In stock\n",
              "     \n",
              " </p>\n",
              " <form>\n",
              " <button class=\"btn btn-primary btn-block\" data-loading-text=\"Adding...\" type=\"submit\">Add to basket</button>\n",
              " </form>\n",
              " </div>\n",
              " </article>,\n",
              " <article class=\"product_pod\">\n",
              " <div class=\"image_container\">\n",
              " <a href=\"catalogue/the-dirty-little-secrets-of-getting-your-dream-job_994/index.html\"><img alt=\"The Dirty Little Secrets of Getting Your Dream Job\" class=\"thumbnail\" src=\"media/cache/92/27/92274a95b7c251fea59a2b8a78275ab4.jpg\"/></a>\n",
              " </div>\n",
              " <p class=\"star-rating Four\">\n",
              " <i class=\"icon-star\"></i>\n",
              " <i class=\"icon-star\"></i>\n",
              " <i class=\"icon-star\"></i>\n",
              " <i class=\"icon-star\"></i>\n",
              " <i class=\"icon-star\"></i>\n",
              " </p>\n",
              " <h3><a href=\"catalogue/the-dirty-little-secrets-of-getting-your-dream-job_994/index.html\" title=\"The Dirty Little Secrets of Getting Your Dream Job\">The Dirty Little Secrets ...</a></h3>\n",
              " <div class=\"product_price\">\n",
              " <p class=\"price_color\">Â£33.34</p>\n",
              " <p class=\"instock availability\">\n",
              " <i class=\"icon-ok\"></i>\n",
              "     \n",
              "         In stock\n",
              "     \n",
              " </p>\n",
              " <form>\n",
              " <button class=\"btn btn-primary btn-block\" data-loading-text=\"Adding...\" type=\"submit\">Add to basket</button>\n",
              " </form>\n",
              " </div>\n",
              " </article>,\n",
              " <article class=\"product_pod\">\n",
              " <div class=\"image_container\">\n",
              " <a href=\"catalogue/the-coming-woman-a-novel-based-on-the-life-of-the-infamous-feminist-victoria-woodhull_993/index.html\"><img alt=\"The Coming Woman: A Novel Based on the Life of the Infamous Feminist, Victoria Woodhull\" class=\"thumbnail\" src=\"media/cache/3d/54/3d54940e57e662c4dd1f3ff00c78cc64.jpg\"/></a>\n",
              " </div>\n",
              " <p class=\"star-rating Three\">\n",
              " <i class=\"icon-star\"></i>\n",
              " <i class=\"icon-star\"></i>\n",
              " <i class=\"icon-star\"></i>\n",
              " <i class=\"icon-star\"></i>\n",
              " <i class=\"icon-star\"></i>\n",
              " </p>\n",
              " <h3><a href=\"catalogue/the-coming-woman-a-novel-based-on-the-life-of-the-infamous-feminist-victoria-woodhull_993/index.html\" title=\"The Coming Woman: A Novel Based on the Life of the Infamous Feminist, Victoria Woodhull\">The Coming Woman: A ...</a></h3>\n",
              " <div class=\"product_price\">\n",
              " <p class=\"price_color\">Â£17.93</p>\n",
              " <p class=\"instock availability\">\n",
              " <i class=\"icon-ok\"></i>\n",
              "     \n",
              "         In stock\n",
              "     \n",
              " </p>\n",
              " <form>\n",
              " <button class=\"btn btn-primary btn-block\" data-loading-text=\"Adding...\" type=\"submit\">Add to basket</button>\n",
              " </form>\n",
              " </div>\n",
              " </article>,\n",
              " <article class=\"product_pod\">\n",
              " <div class=\"image_container\">\n",
              " <a href=\"catalogue/the-boys-in-the-boat-nine-americans-and-their-epic-quest-for-gold-at-the-1936-berlin-olympics_992/index.html\"><img alt=\"The Boys in the Boat: Nine Americans and Their Epic Quest for Gold at the 1936 Berlin Olympics\" class=\"thumbnail\" src=\"media/cache/66/88/66883b91f6804b2323c8369331cb7dd1.jpg\"/></a>\n",
              " </div>\n",
              " <p class=\"star-rating Four\">\n",
              " <i class=\"icon-star\"></i>\n",
              " <i class=\"icon-star\"></i>\n",
              " <i class=\"icon-star\"></i>\n",
              " <i class=\"icon-star\"></i>\n",
              " <i class=\"icon-star\"></i>\n",
              " </p>\n",
              " <h3><a href=\"catalogue/the-boys-in-the-boat-nine-americans-and-their-epic-quest-for-gold-at-the-1936-berlin-olympics_992/index.html\" title=\"The Boys in the Boat: Nine Americans and Their Epic Quest for Gold at the 1936 Berlin Olympics\">The Boys in the ...</a></h3>\n",
              " <div class=\"product_price\">\n",
              " <p class=\"price_color\">Â£22.60</p>\n",
              " <p class=\"instock availability\">\n",
              " <i class=\"icon-ok\"></i>\n",
              "     \n",
              "         In stock\n",
              "     \n",
              " </p>\n",
              " <form>\n",
              " <button class=\"btn btn-primary btn-block\" data-loading-text=\"Adding...\" type=\"submit\">Add to basket</button>\n",
              " </form>\n",
              " </div>\n",
              " </article>,\n",
              " <article class=\"product_pod\">\n",
              " <div class=\"image_container\">\n",
              " <a href=\"catalogue/the-black-maria_991/index.html\"><img alt=\"The Black Maria\" class=\"thumbnail\" src=\"media/cache/58/46/5846057e28022268153beff6d352b06c.jpg\"/></a>\n",
              " </div>\n",
              " <p class=\"star-rating One\">\n",
              " <i class=\"icon-star\"></i>\n",
              " <i class=\"icon-star\"></i>\n",
              " <i class=\"icon-star\"></i>\n",
              " <i class=\"icon-star\"></i>\n",
              " <i class=\"icon-star\"></i>\n",
              " </p>\n",
              " <h3><a href=\"catalogue/the-black-maria_991/index.html\" title=\"The Black Maria\">The Black Maria</a></h3>\n",
              " <div class=\"product_price\">\n",
              " <p class=\"price_color\">Â£52.15</p>\n",
              " <p class=\"instock availability\">\n",
              " <i class=\"icon-ok\"></i>\n",
              "     \n",
              "         In stock\n",
              "     \n",
              " </p>\n",
              " <form>\n",
              " <button class=\"btn btn-primary btn-block\" data-loading-text=\"Adding...\" type=\"submit\">Add to basket</button>\n",
              " </form>\n",
              " </div>\n",
              " </article>,\n",
              " <article class=\"product_pod\">\n",
              " <div class=\"image_container\">\n",
              " <a href=\"catalogue/starving-hearts-triangular-trade-trilogy-1_990/index.html\"><img alt=\"Starving Hearts (Triangular Trade Trilogy, #1)\" class=\"thumbnail\" src=\"media/cache/be/f4/bef44da28c98f905a3ebec0b87be8530.jpg\"/></a>\n",
              " </div>\n",
              " <p class=\"star-rating Two\">\n",
              " <i class=\"icon-star\"></i>\n",
              " <i class=\"icon-star\"></i>\n",
              " <i class=\"icon-star\"></i>\n",
              " <i class=\"icon-star\"></i>\n",
              " <i class=\"icon-star\"></i>\n",
              " </p>\n",
              " <h3><a href=\"catalogue/starving-hearts-triangular-trade-trilogy-1_990/index.html\" title=\"Starving Hearts (Triangular Trade Trilogy, #1)\">Starving Hearts (Triangular Trade ...</a></h3>\n",
              " <div class=\"product_price\">\n",
              " <p class=\"price_color\">Â£13.99</p>\n",
              " <p class=\"instock availability\">\n",
              " <i class=\"icon-ok\"></i>\n",
              "     \n",
              "         In stock\n",
              "     \n",
              " </p>\n",
              " <form>\n",
              " <button class=\"btn btn-primary btn-block\" data-loading-text=\"Adding...\" type=\"submit\">Add to basket</button>\n",
              " </form>\n",
              " </div>\n",
              " </article>,\n",
              " <article class=\"product_pod\">\n",
              " <div class=\"image_container\">\n",
              " <a href=\"catalogue/shakespeares-sonnets_989/index.html\"><img alt=\"Shakespeare's Sonnets\" class=\"thumbnail\" src=\"media/cache/10/48/1048f63d3b5061cd2f424d20b3f9b666.jpg\"/></a>\n",
              " </div>\n",
              " <p class=\"star-rating Four\">\n",
              " <i class=\"icon-star\"></i>\n",
              " <i class=\"icon-star\"></i>\n",
              " <i class=\"icon-star\"></i>\n",
              " <i class=\"icon-star\"></i>\n",
              " <i class=\"icon-star\"></i>\n",
              " </p>\n",
              " <h3><a href=\"catalogue/shakespeares-sonnets_989/index.html\" title=\"Shakespeare's Sonnets\">Shakespeare's Sonnets</a></h3>\n",
              " <div class=\"product_price\">\n",
              " <p class=\"price_color\">Â£20.66</p>\n",
              " <p class=\"instock availability\">\n",
              " <i class=\"icon-ok\"></i>\n",
              "     \n",
              "         In stock\n",
              "     \n",
              " </p>\n",
              " <form>\n",
              " <button class=\"btn btn-primary btn-block\" data-loading-text=\"Adding...\" type=\"submit\">Add to basket</button>\n",
              " </form>\n",
              " </div>\n",
              " </article>,\n",
              " <article class=\"product_pod\">\n",
              " <div class=\"image_container\">\n",
              " <a href=\"catalogue/set-me-free_988/index.html\"><img alt=\"Set Me Free\" class=\"thumbnail\" src=\"media/cache/5b/88/5b88c52633f53cacf162c15f4f823153.jpg\"/></a>\n",
              " </div>\n",
              " <p class=\"star-rating Five\">\n",
              " <i class=\"icon-star\"></i>\n",
              " <i class=\"icon-star\"></i>\n",
              " <i class=\"icon-star\"></i>\n",
              " <i class=\"icon-star\"></i>\n",
              " <i class=\"icon-star\"></i>\n",
              " </p>\n",
              " <h3><a href=\"catalogue/set-me-free_988/index.html\" title=\"Set Me Free\">Set Me Free</a></h3>\n",
              " <div class=\"product_price\">\n",
              " <p class=\"price_color\">Â£17.46</p>\n",
              " <p class=\"instock availability\">\n",
              " <i class=\"icon-ok\"></i>\n",
              "     \n",
              "         In stock\n",
              "     \n",
              " </p>\n",
              " <form>\n",
              " <button class=\"btn btn-primary btn-block\" data-loading-text=\"Adding...\" type=\"submit\">Add to basket</button>\n",
              " </form>\n",
              " </div>\n",
              " </article>,\n",
              " <article class=\"product_pod\">\n",
              " <div class=\"image_container\">\n",
              " <a href=\"catalogue/scott-pilgrims-precious-little-life-scott-pilgrim-1_987/index.html\"><img alt=\"Scott Pilgrim's Precious Little Life (Scott Pilgrim #1)\" class=\"thumbnail\" src=\"media/cache/94/b1/94b1b8b244bce9677c2f29ccc890d4d2.jpg\"/></a>\n",
              " </div>\n",
              " <p class=\"star-rating Five\">\n",
              " <i class=\"icon-star\"></i>\n",
              " <i class=\"icon-star\"></i>\n",
              " <i class=\"icon-star\"></i>\n",
              " <i class=\"icon-star\"></i>\n",
              " <i class=\"icon-star\"></i>\n",
              " </p>\n",
              " <h3><a href=\"catalogue/scott-pilgrims-precious-little-life-scott-pilgrim-1_987/index.html\" title=\"Scott Pilgrim's Precious Little Life (Scott Pilgrim #1)\">Scott Pilgrim's Precious Little ...</a></h3>\n",
              " <div class=\"product_price\">\n",
              " <p class=\"price_color\">Â£52.29</p>\n",
              " <p class=\"instock availability\">\n",
              " <i class=\"icon-ok\"></i>\n",
              "     \n",
              "         In stock\n",
              "     \n",
              " </p>\n",
              " <form>\n",
              " <button class=\"btn btn-primary btn-block\" data-loading-text=\"Adding...\" type=\"submit\">Add to basket</button>\n",
              " </form>\n",
              " </div>\n",
              " </article>,\n",
              " <article class=\"product_pod\">\n",
              " <div class=\"image_container\">\n",
              " <a href=\"catalogue/rip-it-up-and-start-again_986/index.html\"><img alt=\"Rip it Up and Start Again\" class=\"thumbnail\" src=\"media/cache/81/c4/81c4a973364e17d01f217e1188253d5e.jpg\"/></a>\n",
              " </div>\n",
              " <p class=\"star-rating Five\">\n",
              " <i class=\"icon-star\"></i>\n",
              " <i class=\"icon-star\"></i>\n",
              " <i class=\"icon-star\"></i>\n",
              " <i class=\"icon-star\"></i>\n",
              " <i class=\"icon-star\"></i>\n",
              " </p>\n",
              " <h3><a href=\"catalogue/rip-it-up-and-start-again_986/index.html\" title=\"Rip it Up and Start Again\">Rip it Up and ...</a></h3>\n",
              " <div class=\"product_price\">\n",
              " <p class=\"price_color\">Â£35.02</p>\n",
              " <p class=\"instock availability\">\n",
              " <i class=\"icon-ok\"></i>\n",
              "     \n",
              "         In stock\n",
              "     \n",
              " </p>\n",
              " <form>\n",
              " <button class=\"btn btn-primary btn-block\" data-loading-text=\"Adding...\" type=\"submit\">Add to basket</button>\n",
              " </form>\n",
              " </div>\n",
              " </article>,\n",
              " <article class=\"product_pod\">\n",
              " <div class=\"image_container\">\n",
              " <a href=\"catalogue/our-band-could-be-your-life-scenes-from-the-american-indie-underground-1981-1991_985/index.html\"><img alt=\"Our Band Could Be Your Life: Scenes from the American Indie Underground, 1981-1991\" class=\"thumbnail\" src=\"media/cache/54/60/54607fe8945897cdcced0044103b10b6.jpg\"/></a>\n",
              " </div>\n",
              " <p class=\"star-rating Three\">\n",
              " <i class=\"icon-star\"></i>\n",
              " <i class=\"icon-star\"></i>\n",
              " <i class=\"icon-star\"></i>\n",
              " <i class=\"icon-star\"></i>\n",
              " <i class=\"icon-star\"></i>\n",
              " </p>\n",
              " <h3><a href=\"catalogue/our-band-could-be-your-life-scenes-from-the-american-indie-underground-1981-1991_985/index.html\" title=\"Our Band Could Be Your Life: Scenes from the American Indie Underground, 1981-1991\">Our Band Could Be ...</a></h3>\n",
              " <div class=\"product_price\">\n",
              " <p class=\"price_color\">Â£57.25</p>\n",
              " <p class=\"instock availability\">\n",
              " <i class=\"icon-ok\"></i>\n",
              "     \n",
              "         In stock\n",
              "     \n",
              " </p>\n",
              " <form>\n",
              " <button class=\"btn btn-primary btn-block\" data-loading-text=\"Adding...\" type=\"submit\">Add to basket</button>\n",
              " </form>\n",
              " </div>\n",
              " </article>,\n",
              " <article class=\"product_pod\">\n",
              " <div class=\"image_container\">\n",
              " <a href=\"catalogue/olio_984/index.html\"><img alt=\"Olio\" class=\"thumbnail\" src=\"media/cache/55/33/553310a7162dfbc2c6d19a84da0df9e1.jpg\"/></a>\n",
              " </div>\n",
              " <p class=\"star-rating One\">\n",
              " <i class=\"icon-star\"></i>\n",
              " <i class=\"icon-star\"></i>\n",
              " <i class=\"icon-star\"></i>\n",
              " <i class=\"icon-star\"></i>\n",
              " <i class=\"icon-star\"></i>\n",
              " </p>\n",
              " <h3><a href=\"catalogue/olio_984/index.html\" title=\"Olio\">Olio</a></h3>\n",
              " <div class=\"product_price\">\n",
              " <p class=\"price_color\">Â£23.88</p>\n",
              " <p class=\"instock availability\">\n",
              " <i class=\"icon-ok\"></i>\n",
              "     \n",
              "         In stock\n",
              "     \n",
              " </p>\n",
              " <form>\n",
              " <button class=\"btn btn-primary btn-block\" data-loading-text=\"Adding...\" type=\"submit\">Add to basket</button>\n",
              " </form>\n",
              " </div>\n",
              " </article>,\n",
              " <article class=\"product_pod\">\n",
              " <div class=\"image_container\">\n",
              " <a href=\"catalogue/mesaerion-the-best-science-fiction-stories-1800-1849_983/index.html\"><img alt=\"Mesaerion: The Best Science Fiction Stories 1800-1849\" class=\"thumbnail\" src=\"media/cache/09/a3/09a3aef48557576e1a85ba7efea8ecb7.jpg\"/></a>\n",
              " </div>\n",
              " <p class=\"star-rating One\">\n",
              " <i class=\"icon-star\"></i>\n",
              " <i class=\"icon-star\"></i>\n",
              " <i class=\"icon-star\"></i>\n",
              " <i class=\"icon-star\"></i>\n",
              " <i class=\"icon-star\"></i>\n",
              " </p>\n",
              " <h3><a href=\"catalogue/mesaerion-the-best-science-fiction-stories-1800-1849_983/index.html\" title=\"Mesaerion: The Best Science Fiction Stories 1800-1849\">Mesaerion: The Best Science ...</a></h3>\n",
              " <div class=\"product_price\">\n",
              " <p class=\"price_color\">Â£37.59</p>\n",
              " <p class=\"instock availability\">\n",
              " <i class=\"icon-ok\"></i>\n",
              "     \n",
              "         In stock\n",
              "     \n",
              " </p>\n",
              " <form>\n",
              " <button class=\"btn btn-primary btn-block\" data-loading-text=\"Adding...\" type=\"submit\">Add to basket</button>\n",
              " </form>\n",
              " </div>\n",
              " </article>,\n",
              " <article class=\"product_pod\">\n",
              " <div class=\"image_container\">\n",
              " <a href=\"catalogue/libertarianism-for-beginners_982/index.html\"><img alt=\"Libertarianism for Beginners\" class=\"thumbnail\" src=\"media/cache/0b/bc/0bbcd0a6f4bcd81ccb1049a52736406e.jpg\"/></a>\n",
              " </div>\n",
              " <p class=\"star-rating Two\">\n",
              " <i class=\"icon-star\"></i>\n",
              " <i class=\"icon-star\"></i>\n",
              " <i class=\"icon-star\"></i>\n",
              " <i class=\"icon-star\"></i>\n",
              " <i class=\"icon-star\"></i>\n",
              " </p>\n",
              " <h3><a href=\"catalogue/libertarianism-for-beginners_982/index.html\" title=\"Libertarianism for Beginners\">Libertarianism for Beginners</a></h3>\n",
              " <div class=\"product_price\">\n",
              " <p class=\"price_color\">Â£51.33</p>\n",
              " <p class=\"instock availability\">\n",
              " <i class=\"icon-ok\"></i>\n",
              "     \n",
              "         In stock\n",
              "     \n",
              " </p>\n",
              " <form>\n",
              " <button class=\"btn btn-primary btn-block\" data-loading-text=\"Adding...\" type=\"submit\">Add to basket</button>\n",
              " </form>\n",
              " </div>\n",
              " </article>,\n",
              " <article class=\"product_pod\">\n",
              " <div class=\"image_container\">\n",
              " <a href=\"catalogue/its-only-the-himalayas_981/index.html\"><img alt=\"It's Only the Himalayas\" class=\"thumbnail\" src=\"media/cache/27/a5/27a53d0bb95bdd88288eaf66c9230d7e.jpg\"/></a>\n",
              " </div>\n",
              " <p class=\"star-rating Two\">\n",
              " <i class=\"icon-star\"></i>\n",
              " <i class=\"icon-star\"></i>\n",
              " <i class=\"icon-star\"></i>\n",
              " <i class=\"icon-star\"></i>\n",
              " <i class=\"icon-star\"></i>\n",
              " </p>\n",
              " <h3><a href=\"catalogue/its-only-the-himalayas_981/index.html\" title=\"It's Only the Himalayas\">It's Only the Himalayas</a></h3>\n",
              " <div class=\"product_price\">\n",
              " <p class=\"price_color\">Â£45.17</p>\n",
              " <p class=\"instock availability\">\n",
              " <i class=\"icon-ok\"></i>\n",
              "     \n",
              "         In stock\n",
              "     \n",
              " </p>\n",
              " <form>\n",
              " <button class=\"btn btn-primary btn-block\" data-loading-text=\"Adding...\" type=\"submit\">Add to basket</button>\n",
              " </form>\n",
              " </div>\n",
              " </article>]"
            ]
          },
          "metadata": {},
          "execution_count": 4
        }
      ]
    },
    {
      "cell_type": "code",
      "source": [
        "#uma lista de vinte livros\n",
        "len(soup.select('article.product_pod'))"
      ],
      "metadata": {
        "colab": {
          "base_uri": "https://localhost:8080/"
        },
        "id": "wz1r9Va00QDc",
        "outputId": "30466980-cbe0-42ad-c3c6-65b27670b39b"
      },
      "execution_count": 5,
      "outputs": [
        {
          "output_type": "execute_result",
          "data": {
            "text/plain": [
              "20"
            ]
          },
          "metadata": {},
          "execution_count": 5
        }
      ]
    },
    {
      "cell_type": "code",
      "source": [
        "soup.select('article.product_pod')[0]"
      ],
      "metadata": {
        "colab": {
          "base_uri": "https://localhost:8080/"
        },
        "id": "kfEgsbeW06OZ",
        "outputId": "df12454b-e314-489f-af80-45404338616e"
      },
      "execution_count": 6,
      "outputs": [
        {
          "output_type": "execute_result",
          "data": {
            "text/plain": [
              "<article class=\"product_pod\">\n",
              "<div class=\"image_container\">\n",
              "<a href=\"catalogue/a-light-in-the-attic_1000/index.html\"><img alt=\"A Light in the Attic\" class=\"thumbnail\" src=\"media/cache/2c/da/2cdad67c44b002e7ead0cc35693c0e8b.jpg\"/></a>\n",
              "</div>\n",
              "<p class=\"star-rating Three\">\n",
              "<i class=\"icon-star\"></i>\n",
              "<i class=\"icon-star\"></i>\n",
              "<i class=\"icon-star\"></i>\n",
              "<i class=\"icon-star\"></i>\n",
              "<i class=\"icon-star\"></i>\n",
              "</p>\n",
              "<h3><a href=\"catalogue/a-light-in-the-attic_1000/index.html\" title=\"A Light in the Attic\">A Light in the ...</a></h3>\n",
              "<div class=\"product_price\">\n",
              "<p class=\"price_color\">Â£51.77</p>\n",
              "<p class=\"instock availability\">\n",
              "<i class=\"icon-ok\"></i>\n",
              "    \n",
              "        In stock\n",
              "    \n",
              "</p>\n",
              "<form>\n",
              "<button class=\"btn btn-primary btn-block\" data-loading-text=\"Adding...\" type=\"submit\">Add to basket</button>\n",
              "</form>\n",
              "</div>\n",
              "</article>"
            ]
          },
          "metadata": {},
          "execution_count": 6
        }
      ]
    },
    {
      "cell_type": "code",
      "source": [
        "soup.select('article.product_pod')[0].h3.a['title']"
      ],
      "metadata": {
        "colab": {
          "base_uri": "https://localhost:8080/",
          "height": 36
        },
        "id": "25cu7Ybn1dnP",
        "outputId": "29158b45-ef1d-4347-bd50-68ee71777060"
      },
      "execution_count": 7,
      "outputs": [
        {
          "output_type": "execute_result",
          "data": {
            "text/plain": [
              "'A Light in the Attic'"
            ],
            "application/vnd.google.colaboratory.intrinsic+json": {
              "type": "string"
            }
          },
          "metadata": {},
          "execution_count": 7
        }
      ]
    },
    {
      "cell_type": "code",
      "source": [
        "soup.select('article.product_pod')[0].select_one('p.price_color').text"
      ],
      "metadata": {
        "colab": {
          "base_uri": "https://localhost:8080/",
          "height": 36
        },
        "id": "UUa-k_XQ2S8s",
        "outputId": "7e1ca471-0aee-4f68-e165-324a08b108b1"
      },
      "execution_count": 8,
      "outputs": [
        {
          "output_type": "execute_result",
          "data": {
            "text/plain": [
              "'Â£51.77'"
            ],
            "application/vnd.google.colaboratory.intrinsic+json": {
              "type": "string"
            }
          },
          "metadata": {},
          "execution_count": 8
        }
      ]
    },
    {
      "cell_type": "code",
      "source": [
        "soup.select('article.product_pod')[0].select_one('p.instock.availability').text.strip()"
      ],
      "metadata": {
        "colab": {
          "base_uri": "https://localhost:8080/",
          "height": 36
        },
        "id": "aqClDM9C3Bya",
        "outputId": "18777aa4-8fb8-4bf4-de65-ccffb2449c6d"
      },
      "execution_count": 10,
      "outputs": [
        {
          "output_type": "execute_result",
          "data": {
            "text/plain": [
              "'In stock'"
            ],
            "application/vnd.google.colaboratory.intrinsic+json": {
              "type": "string"
            }
          },
          "metadata": {},
          "execution_count": 10
        }
      ]
    },
    {
      "cell_type": "code",
      "source": [
        "star = soup.select('article.product_pod')[0].select_one('p.star-rating')"
      ],
      "metadata": {
        "id": "qk51zY2K3OZg"
      },
      "execution_count": 11,
      "outputs": []
    },
    {
      "cell_type": "code",
      "source": [
        "star.get('class')[1]"
      ],
      "metadata": {
        "colab": {
          "base_uri": "https://localhost:8080/",
          "height": 36
        },
        "id": "aOGXQK-_42B2",
        "outputId": "8830012b-99fb-434d-8617-e00ca25eb463"
      },
      "execution_count": 12,
      "outputs": [
        {
          "output_type": "execute_result",
          "data": {
            "text/plain": [
              "'Three'"
            ],
            "application/vnd.google.colaboratory.intrinsic+json": {
              "type": "string"
            }
          },
          "metadata": {},
          "execution_count": 12
        }
      ]
    },
    {
      "cell_type": "code",
      "source": [
        "def traduzir_numero(numero_em_ingles):\n",
        "#dicionario para traduzir os numeros\n",
        "  traducao = {\n",
        "      \"one\": \"um\",\n",
        "      \"two\":\"dois\",\n",
        "      \"three\":\"três\",\n",
        "      \"four\":\"quatro\",\n",
        "      \"five\":\"cinco\"\n",
        "  }\n",
        "#retorna a traduçao ou uma mensagem caso o numero nao esteja no dicionario\n",
        "  return traducao.get(numero_em_ingles.lower(),\"Numero nao encontrado\")"
      ],
      "metadata": {
        "id": "H6X7cwwq6TNa"
      },
      "execution_count": 17,
      "outputs": []
    },
    {
      "cell_type": "code",
      "source": [
        "traduzir_numero(star.get('class')[1].lower())"
      ],
      "metadata": {
        "colab": {
          "base_uri": "https://localhost:8080/",
          "height": 36
        },
        "id": "D1AmcsBm6fZ5",
        "outputId": "3733a4bc-48cd-4b60-8866-ca72bc06b302"
      },
      "execution_count": 19,
      "outputs": [
        {
          "output_type": "execute_result",
          "data": {
            "text/plain": [
              "'três'"
            ],
            "application/vnd.google.colaboratory.intrinsic+json": {
              "type": "string"
            }
          },
          "metadata": {},
          "execution_count": 19
        }
      ]
    }
  ]
}
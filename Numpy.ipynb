{
  "nbformat": 4,
  "nbformat_minor": 0,
  "metadata": {
    "colab": {
      "provenance": [],
      "authorship_tag": "ABX9TyMnjm/+wA2h8HEXNnIL1fMs",
      "include_colab_link": true
    },
    "kernelspec": {
      "name": "python3",
      "display_name": "Python 3"
    },
    "language_info": {
      "name": "python"
    }
  },
  "cells": [
    {
      "cell_type": "markdown",
      "metadata": {
        "id": "view-in-github",
        "colab_type": "text"
      },
      "source": [
        "<a href=\"https://colab.research.google.com/github/camila251/Aula_Senai/blob/main/Numpy.ipynb\" target=\"_parent\"><img src=\"https://colab.research.google.com/assets/colab-badge.svg\" alt=\"Open In Colab\"/></a>"
      ]
    },
    {
      "cell_type": "code",
      "execution_count": null,
      "metadata": {
        "id": "7Se_51llmQpD"
      },
      "outputs": [],
      "source": [
        "print(1)"
      ]
    },
    {
      "cell_type": "code",
      "source": [
        "w1, w2, w3 = 0.3, 0.2, 0.5\n",
        "print(w1)\n",
        "print(w2)\n",
        "print(w3)"
      ],
      "metadata": {
        "colab": {
          "base_uri": "https://localhost:8080/"
        },
        "id": "HOuyge0iyI5e",
        "outputId": "68f1c5bb-9ac6-4f65-e3ad-a54f31aa28e6"
      },
      "execution_count": null,
      "outputs": [
        {
          "output_type": "stream",
          "name": "stdout",
          "text": [
            "0.3\n",
            "0.2\n",
            "0.5\n"
          ]
        }
      ]
    },
    {
      "cell_type": "code",
      "source": [
        "regiaoA_temp = 22\n",
        "regiaoA_chuva = 67\n",
        "regiaoA__umid = 65"
      ],
      "metadata": {
        "id": "xfusw5Aw1RNP"
      },
      "execution_count": null,
      "outputs": []
    },
    {
      "cell_type": "code",
      "source": [
        "w1, w2, w3 = 0.3, 0.2, 0.5\n",
        "\n",
        "regiaoA_temp = 22\n",
        "regiaoA_chuva = 67\n",
        "regiaoA__umid = 65\n",
        "\n",
        "regiaoA_goiaba = regiaoA_temp * w1 + regiaoA_chuva * w2 + regiaoA__umid * w3\n",
        "print(\"na regiao A a produçao de {} toneladas por hectare\" . format(regiaoA_goiaba))"
      ],
      "metadata": {
        "colab": {
          "base_uri": "https://localhost:8080/"
        },
        "id": "GP6aIryB84Bq",
        "outputId": "d12b1984-9714-41bf-f6d2-7e45587b82c1"
      },
      "execution_count": null,
      "outputs": [
        {
          "output_type": "stream",
          "name": "stdout",
          "text": [
            "na regiao A a produçao de 52.5 toneladas por hectare\n"
          ]
        }
      ]
    },
    {
      "cell_type": "code",
      "source": [
        "regiaoA = [22, 67, 65]\n",
        "regiaoB = [24, 88, 95]\n",
        "regiaoC = [17, 134, 50]\n",
        "regiaoD = [18, 96, 70]\n",
        "\n",
        "pesos = [w1, w2, w3]"
      ],
      "metadata": {
        "id": "_bQiBmwlAymz"
      },
      "execution_count": null,
      "outputs": []
    },
    {
      "cell_type": "code",
      "source": [
        "nomes = ['alice' , 'bob','charlie']\n",
        "idades = [25, 30 ,35]\n",
        "\n",
        "lista_combinada = list(zip(nomes, idades))\n",
        "print(lista_combinada)"
      ],
      "metadata": {
        "colab": {
          "base_uri": "https://localhost:8080/"
        },
        "id": "53mtYxjeIdhC",
        "outputId": "dcf90d9c-f1fa-44a1-99f3-216d7f307bff"
      },
      "execution_count": null,
      "outputs": [
        {
          "output_type": "stream",
          "name": "stdout",
          "text": [
            "[('alice', 25), ('bob', 30), ('charlie', 35)]\n"
          ]
        }
      ]
    },
    {
      "cell_type": "code",
      "source": [
        "def produçao_goiaba(regiao, pesos):\n",
        "  result = 0\n",
        "  for x, w in zip(regiao,pesos):\n",
        "    result += x * w\n",
        "  return result"
      ],
      "metadata": {
        "id": "L3xKjvoeJ4Za"
      },
      "execution_count": null,
      "outputs": []
    },
    {
      "cell_type": "code",
      "source": [
        "C"
      ],
      "metadata": {
        "colab": {
          "base_uri": "https://localhost:8080/"
        },
        "id": "-d3PsFmXMGRa",
        "outputId": "f29b37d4-4204-4398-b9b9-52b822f1fa0a"
      },
      "execution_count": null,
      "outputs": [
        {
          "output_type": "stream",
          "name": "stdout",
          "text": [
            "52.5\n"
          ]
        }
      ]
    },
    {
      "cell_type": "code",
      "source": [
        "print(produçao_goiaba(regiaoA, pesos))\n",
        "print(produçao_goiaba(regiaoB, pesos))\n",
        "print(produçao_goiaba(regiaoC, pesos))\n",
        "print(produçao_goiaba(regiaoD, pesos))"
      ],
      "metadata": {
        "colab": {
          "base_uri": "https://localhost:8080/"
        },
        "id": "FeZHpWmzMpKJ",
        "outputId": "0fc08425-1025-4179-dd0b-2fea4bb54dfd"
      },
      "execution_count": null,
      "outputs": [
        {
          "output_type": "stream",
          "name": "stdout",
          "text": [
            "52.5\n",
            "72.3\n",
            "56.9\n",
            "59.6\n"
          ]
        }
      ]
    },
    {
      "cell_type": "code",
      "source": [
        "import numpy as np\n",
        "\n",
        "regiaoA = np.array([22, 67, 65])\n",
        "\n",
        "print(type(regiaoA))\n",
        "\n",
        "pesos = np.array([w1, w2, w3])\n",
        "\n",
        "print(type(pesos))"
      ],
      "metadata": {
        "colab": {
          "base_uri": "https://localhost:8080/"
        },
        "id": "Iivg_0rMUD6J",
        "outputId": "783aba81-a0f1-4ef7-a6e1-b0739463e849"
      },
      "execution_count": null,
      "outputs": [
        {
          "output_type": "stream",
          "name": "stdout",
          "text": [
            "<class 'numpy.ndarray'>\n",
            "<class 'numpy.ndarray'>\n"
          ]
        }
      ]
    },
    {
      "cell_type": "code",
      "source": [
        "reg_a = np.dot(regiaoA, pesos)\n",
        "print('regiao A: {}'.format(reg_a))"
      ],
      "metadata": {
        "colab": {
          "base_uri": "https://localhost:8080/"
        },
        "id": "jusfQX7CXuBx",
        "outputId": "d6fa2059-5e00-498e-e20e-54472ac451d6"
      },
      "execution_count": null,
      "outputs": [
        {
          "output_type": "stream",
          "name": "stdout",
          "text": [
            "regiao A: 52.5\n"
          ]
        }
      ]
    },
    {
      "cell_type": "code",
      "source": [
        "#lista em python\n",
        "arr1 = list(range(2000000))\n",
        "arr2 = list(range(1000000, 3000000))\n",
        "\n",
        "#vetor em numpy\n",
        "arr1_np = np.array(arr1)\n",
        "arr2_np = np.array(arr2)"
      ],
      "metadata": {
        "id": "pHKFpCBgZ-YZ"
      },
      "execution_count": null,
      "outputs": []
    },
    {
      "cell_type": "code",
      "source": [
        "%%time\n",
        "result = 0\n",
        "for x1, x2 in zip(arr1, arr2):\n",
        "  result += x1*x2\n",
        "print(result)"
      ],
      "metadata": {
        "colab": {
          "base_uri": "https://localhost:8080/"
        },
        "id": "unVPtoRYbec5",
        "outputId": "dc4683e8-192b-45f6-f127-cd116e3b9723"
      },
      "execution_count": null,
      "outputs": [
        {
          "output_type": "stream",
          "name": "stdout",
          "text": [
            "4666663666667000000\n",
            "CPU times: user 404 ms, sys: 0 ns, total: 404 ms\n",
            "Wall time: 405 ms\n"
          ]
        }
      ]
    },
    {
      "cell_type": "code",
      "source": [
        "%%time\n",
        "print(np.dot(arr1_np, arr2_np))"
      ],
      "metadata": {
        "colab": {
          "base_uri": "https://localhost:8080/"
        },
        "id": "DulFFwfeceHA",
        "outputId": "fe03518a-4c19-482b-b7d2-64bd975fca2d"
      },
      "execution_count": null,
      "outputs": [
        {
          "output_type": "stream",
          "name": "stdout",
          "text": [
            "4666663666667000000\n",
            "CPU times: user 6.75 ms, sys: 0 ns, total: 6.75 ms\n",
            "Wall time: 5.17 ms\n"
          ]
        }
      ]
    },
    {
      "cell_type": "code",
      "source": [
        "dados_climaticos =np.array([[22, 67, 65],\n",
        "                  [24, 88, 95],\n",
        "                   [17, 134, 50],\n",
        "                  [18, 96, 70],])\n",
        "print(dados_climaticos)"
      ],
      "metadata": {
        "colab": {
          "base_uri": "https://localhost:8080/"
        },
        "id": "aSXumSvUdJLX",
        "outputId": "d6c527b0-d8b6-4a08-a54f-f94fb8e4dbf6"
      },
      "execution_count": null,
      "outputs": [
        {
          "output_type": "stream",
          "name": "stdout",
          "text": [
            "[[ 22  67  65]\n",
            " [ 24  88  95]\n",
            " [ 17 134  50]\n",
            " [ 18  96  70]]\n"
          ]
        }
      ]
    },
    {
      "cell_type": "code",
      "source": [
        "print(dados_climaticos.shape)\n",
        "\n",
        "print(pesos.shape)"
      ],
      "metadata": {
        "colab": {
          "base_uri": "https://localhost:8080/"
        },
        "id": "RJOOdgEagz2v",
        "outputId": "7621df2f-552a-4839-935b-260ffaf87119"
      },
      "execution_count": null,
      "outputs": [
        {
          "output_type": "stream",
          "name": "stdout",
          "text": [
            "(4, 3)\n",
            "(3,)\n"
          ]
        }
      ]
    },
    {
      "cell_type": "code",
      "source": [
        "print(pesos.dtype)\n",
        "print('----------')\n",
        "print(dados_climaticos.dtype)"
      ],
      "metadata": {
        "colab": {
          "base_uri": "https://localhost:8080/"
        },
        "id": "7zq0b6FRhtkf",
        "outputId": "69387e0d-7dad-45ec-c66c-bc5ae4c06cfd"
      },
      "execution_count": null,
      "outputs": [
        {
          "output_type": "stream",
          "name": "stdout",
          "text": [
            "float64\n",
            "----------\n",
            "int64\n"
          ]
        }
      ]
    },
    {
      "cell_type": "code",
      "source": [
        "dados_climaticos @ pesos"
      ],
      "metadata": {
        "colab": {
          "base_uri": "https://localhost:8080/"
        },
        "id": "Gxq5XHEIjiKv",
        "outputId": "d247b240-5e99-41a7-bb83-0b0231b1350b"
      },
      "execution_count": null,
      "outputs": [
        {
          "output_type": "execute_result",
          "data": {
            "text/plain": [
              "array([52.5, 72.3, 56.9, 59.6])"
            ]
          },
          "metadata": {},
          "execution_count": 38
        }
      ]
    },
    {
      "cell_type": "code",
      "source": [
        "import numpy as np\n",
        "\n",
        "camila_cvs = np.genfromtxt('/content/camila.csv', delimiter= ',')"
      ],
      "metadata": {
        "id": "g1dMRME0Px-X"
      },
      "execution_count": 2,
      "outputs": []
    },
    {
      "cell_type": "code",
      "source": [
        "camila_cvs"
      ],
      "metadata": {
        "colab": {
          "base_uri": "https://localhost:8080/"
        },
        "id": "Vi68AOQDQDjg",
        "outputId": "a64110e1-054d-4514-a719-e97caa2b9353"
      },
      "execution_count": 3,
      "outputs": [
        {
          "output_type": "execute_result",
          "data": {
            "text/plain": [
              "array([[23., 29., 95.],\n",
              "       [24., 20., 21.],\n",
              "       [18., 23., 16.],\n",
              "       [19., 30., 36.]])"
            ]
          },
          "metadata": {},
          "execution_count": 3
        }
      ]
    },
    {
      "cell_type": "code",
      "source": [
        "pesos = np.array([0.4, 0.2, 0.8])"
      ],
      "metadata": {
        "id": "zMuBV6byQIuP"
      },
      "execution_count": 4,
      "outputs": []
    },
    {
      "cell_type": "code",
      "source": [
        "rendimento = camila_cvs @ pesos"
      ],
      "metadata": {
        "id": "xl_6w2rDQY0o"
      },
      "execution_count": 5,
      "outputs": []
    },
    {
      "cell_type": "code",
      "source": [
        "# incluir o resultado na regiao do array\n",
        "resultado = np.concatenate((camila_cvs, rendimento.reshape(4,1)), axis=1)"
      ],
      "metadata": {
        "id": "Ct7cZTZrQhzg"
      },
      "execution_count": 6,
      "outputs": []
    },
    {
      "cell_type": "code",
      "source": [
        "resultado"
      ],
      "metadata": {
        "colab": {
          "base_uri": "https://localhost:8080/"
        },
        "id": "dm40GlQMTK1Y",
        "outputId": "b93db71b-e3da-4c48-c3fe-7171070c313d"
      },
      "execution_count": 7,
      "outputs": [
        {
          "output_type": "execute_result",
          "data": {
            "text/plain": [
              "array([[23. , 29. , 95. , 91. ],\n",
              "       [24. , 20. , 21. , 30.4],\n",
              "       [18. , 23. , 16. , 24.6],\n",
              "       [19. , 30. , 36. , 42.4]])"
            ]
          },
          "metadata": {},
          "execution_count": 7
        }
      ]
    },
    {
      "cell_type": "code",
      "source": [
        "#agora é so salvar\n",
        "np.savetxt('camila_resultado.csv',\n",
        "           resultado,\n",
        "           fmt='%.2f',\n",
        "           delimiter=',',\n",
        "           header='temperatura,precipitação,umidade,rendimento',\n",
        "           comments='')"
      ],
      "metadata": {
        "id": "PZuRmW_iTZmH"
      },
      "execution_count": 14,
      "outputs": []
    },
    {
      "cell_type": "code",
      "source": [],
      "metadata": {
        "id": "HTemFuGLWa_4"
      },
      "execution_count": null,
      "outputs": []
    }
  ]
}